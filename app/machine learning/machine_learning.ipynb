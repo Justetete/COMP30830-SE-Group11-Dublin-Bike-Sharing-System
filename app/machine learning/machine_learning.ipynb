{
 "cells": [
  {
   "cell_type": "code",
   "execution_count": 3,
   "metadata": {},
   "outputs": [],
   "source": [
    "#importing all libraries necessary for machine learning\n",
    "import pandas as pd\n",
    "import glob\n",
    "import os"
   ]
  },
  {
   "cell_type": "code",
   "execution_count": 4,
   "metadata": {},
   "outputs": [],
   "source": [
    "# i need to load in all 5 datasets which is the one dataset combined\n",
    "\n",
    "# Attempt to get the script directory; fallback to os.getcwd() if __file__ is not defined\n",
    "try:\n",
    "    script_dir = os.path.dirname(os.path.abspath(__file__))\n",
    "except NameError:\n",
    "    script_dir = os.getcwd()\n",
    "\n",
    "# Assuming your notebook is running from \"COMP30830-SE-Group11-Dublin-Bike-Sharing-System/app/machine learning\",\n",
    "# we move up two directories to reach the project root.\n",
    "project_root = os.path.abspath(os.path.join(script_dir, \"..\", \"..\"))\n",
    "\n",
    "# Define the correct path to the 'database' folder inside 'app'\n",
    "data_folder = os.path.join(project_root, \"app\", \"database\")\n",
    "\n",
    "# Get all CSV file paths that match the pattern in the 'database' folder\n",
    "file_paths = glob.glob(os.path.join(data_folder, \"MachineLearningData_*.csv\"))\n",
    "\n",
    "# Read and concatenate all CSV files into one DataFrame\n",
    "data = pd.concat([pd.read_csv(file) for file in file_paths], ignore_index=True)\n",
    "\n",
    "# Handle missing values (drop rows with NaN in lagged features)\n",
    "data.dropna(inplace=True)"
   ]
  }
 ],
 "metadata": {
  "kernelspec": {
   "display_name": "comp30830python",
   "language": "python",
   "name": "python3"
  },
  "language_info": {
   "codemirror_mode": {
    "name": "ipython",
    "version": 3
   },
   "file_extension": ".py",
   "mimetype": "text/x-python",
   "name": "python",
   "nbconvert_exporter": "python",
   "pygments_lexer": "ipython3",
   "version": "3.11.11"
  }
 },
 "nbformat": 4,
 "nbformat_minor": 2
}
